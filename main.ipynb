{
 "cells": [
  {
   "cell_type": "code",
   "execution_count": 1,
   "metadata": {},
   "outputs": [],
   "source": [
    "import numpy as np\n",
    "from matplotlib import pyplot as plt\n",
    "np.random.seed(42)"
   ]
  },
  {
   "cell_type": "code",
   "execution_count": 2,
   "metadata": {},
   "outputs": [
    {
     "name": "stdout",
     "output_type": "stream",
     "text": [
      "(3, 1) [+-*/] (3, 4) = (3, 4)\n",
      "(3, 1) [+-*/] (1, 4) = (3, 4)\n",
      "(3, 1) [+-*/] (3, 1) = (3, 1)\n",
      "(3, 4) [+-*/] (3, 1) = (3, 4)\n",
      "(3, 4) [+-*/] (1, 4) = (3, 4)\n",
      "(3, 4) [+-*/] (3, 4) = (3, 4)\n"
     ]
    }
   ],
   "source": [
    "# different broadcast rules in numpy\n",
    "shapes = [[(3,1),(3,4)],[(3,1),(1,4)],[(3,1),(3,1)],[(3,4),(3,1)],[(3,4),(1,4)],[(3,4),(3,4)]]\n",
    "for aa,bb in shapes:\n",
    "    a = np.random.randn(*aa)\n",
    "    b = np.random.randn(*bb)\n",
    "    print(a.shape,'[+-*/]',b.shape,'=',(a-b).shape)"
   ]
  },
  {
   "cell_type": "code",
   "execution_count": 98,
   "metadata": {},
   "outputs": [
    {
     "data": {
      "text/plain": [
       "((1, 100), (100, 1))"
      ]
     },
     "execution_count": 98,
     "metadata": {},
     "output_type": "execute_result"
    }
   ],
   "source": [
    "w1 = np.random.rand(100).reshape(1,-1)\n",
    "w2 = np.random.rand(100).reshape(-1,1)\n",
    "np.dot(w1,w2)\n",
    "w1.shape,w2.shape"
   ]
  },
  {
   "cell_type": "code",
   "execution_count": 17,
   "metadata": {},
   "outputs": [],
   "source": [
    "# build a simple logistic regression from scratch and use gradient descent\n",
    "\n",
    "class LR:\n",
    "    def __init__(self,inp_size=2) -> None:\n",
    "        # z = x1 * w1 + x2 * w2 + b\n",
    "        self.w = np.random.rand(inp_size,1) #  left features X right features[<>]\n",
    "        self.b = np.random.rand(1,1)\n",
    "    \n",
    "    def fpass(self,x):\n",
    "        z = x @ self.w + self.b\n",
    "        a = self.sigmoid(z)\n",
    "        return a\n",
    "    \n",
    "    def sigmoid(self,z):\n",
    "        return 1/(1+np.exp(-z))\n",
    "\n",
    "    def BCE(self,target,predicted):\n",
    "        return -(target*np.log(predicted) + (1-target)*np.log(1-predicted))\n",
    "    \n",
    "    def train(self,x,y,epoch=100,lr=0.01):\n",
    "        batch = x.shape[0]\n",
    "        for _ in range(1,epoch+1):\n",
    "            if _%10==0:\n",
    "                print(self.w,self.b)\n",
    "            z = x @ self.w + self.b # (z = xw + b)\n",
    "            a = self.sigmoid(z)\n",
    "            loss = self.BCE(y,a)\n",
    "         \n",
    "            da = -(y/a - (1-y)/(1-a))\n",
    "            dz = da * (a - a**2) #dz = a - y\n",
    "            dw = (x.T @ dz)/batch\n",
    "            db = dz.sum(axis=0)/batch\n",
    "\n",
    "            self.w -= lr*dw\n",
    "            self.b -= lr*db\n",
    "\n",
    "\n",
    "\n"
   ]
  },
  {
   "cell_type": "code",
   "execution_count": 18,
   "metadata": {},
   "outputs": [
    {
     "name": "stdout",
     "output_type": "stream",
     "text": [
      "[[0.36002527]\n",
      " [0.93590538]] [[0.70417022]]\n",
      "[[0.34425671]\n",
      " [0.91976212]] [[0.67396657]]\n",
      "[[0.32886769]\n",
      " [0.90394858]] [[0.64451325]]\n",
      "[[0.31385917]\n",
      " [0.88846648]] [[0.6158102]]\n",
      "[[0.29923137]\n",
      " [0.87331686]] [[0.58785601]]\n",
      "[[0.28498377]\n",
      " [0.85850015]] [[0.56064798]]\n",
      "[[0.27111518]\n",
      " [0.84401614]] [[0.53418209]]\n",
      "[[0.25762372]\n",
      " [0.82986402]] [[0.50845315]]\n",
      "[[0.24450688]\n",
      " [0.81604238]] [[0.4834548]]\n",
      "[[0.23176154]\n",
      " [0.80254927]] [[0.4591796]]\n"
     ]
    }
   ],
   "source": [
    "np.random.seed(42)\n",
    "model = LR(2)\n",
    "x = np.random.rand(64,2)\n",
    "y = np.random.rand(64,1)\n",
    "model.train(x,y)"
   ]
  },
  {
   "cell_type": "code",
   "execution_count": null,
   "metadata": {},
   "outputs": [],
   "source": []
  }
 ],
 "metadata": {
  "kernelspec": {
   "display_name": "new_ai_stuff",
   "language": "python",
   "name": "python3"
  },
  "language_info": {
   "codemirror_mode": {
    "name": "ipython",
    "version": 3
   },
   "file_extension": ".py",
   "mimetype": "text/x-python",
   "name": "python",
   "nbconvert_exporter": "python",
   "pygments_lexer": "ipython3",
   "version": "3.12.1"
  }
 },
 "nbformat": 4,
 "nbformat_minor": 2
}
